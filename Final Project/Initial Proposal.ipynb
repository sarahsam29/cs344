{
 "cells": [
  {
   "cell_type": "markdown",
   "metadata": {},
   "source": [
    "# Final Project Proposal (pt.1)"
   ]
  },
  {
   "cell_type": "markdown",
   "metadata": {},
   "source": [
    "For the final project, I aim to create a program similar to Paul Graham’s Spam filter. I will be using Service Express’ service ticket call dataset. This dataset includes the TcaProblem field, which is a text field holding customer requests and complaints about the piece of hardware that needs to be fixed by Service Express. Another field within this dataset is the TcaPart field. If the ticket is “closed” (the issue has been attended to), then this field stores the particular hardware part that a field engineer used to fix their problem. For example, a closed ticket may have a TcaProblem that reads: “Fan is making squeaky noises” and a TcaPart  “IBM 6480 Card Cage Fan Assy” associated with it. Using Service Express’ dataset, I intend to determine how the unstructured text provided in the TcaProblem field predicts equipment failure and parts consumption.  \n",
    "\n",
    "I will start by building a model that uses supervised learning on a large number of historical closed tickets to find associations between words in the TcaProblem field and the hardware parts, in TcaPart, associated with it. Then, I plan to compare an open-ticket (one that has not been serviced and has an empty TcaParts field) against the closed ticket model to determine what went wrong with the customer’s equipment and the exact part that will be used to fix it. To accomplish this, I will need to use statistical methods (to report only associations that are above a certain threshold that I will determine). I will add in functionality to tokenize the unstructured text into bi-grams (or n-grams) because I know that the sequence of words is important and will improve the accuracy of my results. Overall, I will be implementing a system that addresses natural language processing using the AI technology of statistical methods.  "
   ]
  }
 ],
 "metadata": {
  "kernelspec": {
   "display_name": "Python 3",
   "language": "python",
   "name": "python3"
  },
  "language_info": {
   "codemirror_mode": {
    "name": "ipython",
    "version": 3
   },
   "file_extension": ".py",
   "mimetype": "text/x-python",
   "name": "python",
   "nbconvert_exporter": "python",
   "pygments_lexer": "ipython3",
   "version": "3.6.7"
  }
 },
 "nbformat": 4,
 "nbformat_minor": 2
}
