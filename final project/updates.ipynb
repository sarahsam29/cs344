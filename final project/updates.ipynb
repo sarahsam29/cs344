{
 "cells": [
  {
   "cell_type": "markdown",
   "metadata": {},
   "source": [
    "### Updates since walkthrough "
   ]
  },
  {
   "cell_type": "markdown",
   "metadata": {},
   "source": [
    "Since the walkthrough, I have not made too many changes. But I did experiment with two things:\n",
    "\n",
    "1. Using \"failed\" and \"bad\" in TcaProblem feilds to check in bi-grams can handle my skewed data, and suggest a hardware part that is not a hard-drive/hard-disk. I am not convinced bi-grams can affectly handle the skewed data, but I have noticed that \"bad\" is handled more effectively than \"failed\".\n",
    "\n",
    "2. I tested Tri-grams and found out that I am returned an empty dataframe 80% of the time. This most probably means my algorithm is not robust enough."
   ]
  }
 ],
 "metadata": {
  "kernelspec": {
   "display_name": "Python 3",
   "language": "python",
   "name": "python3"
  },
  "language_info": {
   "codemirror_mode": {
    "name": "ipython",
    "version": 3
   },
   "file_extension": ".py",
   "mimetype": "text/x-python",
   "name": "python",
   "nbconvert_exporter": "python",
   "pygments_lexer": "ipython3",
   "version": "3.6.7"
  }
 },
 "nbformat": 4,
 "nbformat_minor": 2
}
