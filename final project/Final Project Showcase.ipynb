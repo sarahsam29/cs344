{
 "cells": [
  {
   "cell_type": "markdown",
   "metadata": {},
   "source": [
    "# Unstructured Text Analysis\n",
    "## Sarah Samuel, cs344"
   ]
  },
  {
   "cell_type": "code",
   "execution_count": 8,
   "metadata": {
    "scrolled": false
   },
   "outputs": [],
   "source": [
    "import pandas as pd\n",
    "import numpy as np\n",
    "import string\n",
    "import codecs\n",
    "import nltk\n",
    "import os\n",
    "import re\n",
    "from nltk.corpus import stopwords"
   ]
  },
  {
   "cell_type": "code",
   "execution_count": 10,
   "metadata": {},
   "outputs": [
    {
     "data": {
      "text/html": [
       "<div>\n",
       "<table border=\"1\" class=\"dataframe\">\n",
       "  <thead>\n",
       "    <tr style=\"text-align: right;\">\n",
       "      <th></th>\n",
       "      <th>TcaPkey</th>\n",
       "      <th>TcaCompletedDate</th>\n",
       "      <th>TcaProblem</th>\n",
       "      <th>Part</th>\n",
       "    </tr>\n",
       "  </thead>\n",
       "  <tbody>\n",
       "    <tr>\n",
       "      <th>0</th>\n",
       "      <td>708225</td>\n",
       "      <td>00:00.0</td>\n",
       "      <td>Keeps rebooting like before. See ticket #698931.</td>\n",
       "      <td>POWER SUPPLY</td>\n",
       "    </tr>\n",
       "    <tr>\n",
       "      <th>1</th>\n",
       "      <td>710945</td>\n",
       "      <td>20:00.0</td>\n",
       "      <td>Library controller will not boot with RAID car...</td>\n",
       "      <td>CONTROLLER</td>\n",
       "    </tr>\n",
       "    <tr>\n",
       "      <th>2</th>\n",
       "      <td>710945</td>\n",
       "      <td>20:00.0</td>\n",
       "      <td>Library controller will not boot with RAID car...</td>\n",
       "      <td>MONITOR</td>\n",
       "    </tr>\n",
       "    <tr>\n",
       "      <th>3</th>\n",
       "      <td>711988</td>\n",
       "      <td>30:00.0</td>\n",
       "      <td>DS4300 TOP - Failed controler and failed contr...</td>\n",
       "      <td>BATTERY</td>\n",
       "    </tr>\n",
       "    <tr>\n",
       "      <th>4</th>\n",
       "      <td>711988</td>\n",
       "      <td>30:00.0</td>\n",
       "      <td>DS4300 TOP - Failed controler and failed contr...</td>\n",
       "      <td>CONTROLLER</td>\n",
       "    </tr>\n",
       "  </tbody>\n",
       "</table>\n",
       "</div>"
      ],
      "text/plain": [
       "   TcaPkey TcaCompletedDate  \\\n",
       "0   708225          00:00.0   \n",
       "1   710945          20:00.0   \n",
       "2   710945          20:00.0   \n",
       "3   711988          30:00.0   \n",
       "4   711988          30:00.0   \n",
       "\n",
       "                                          TcaProblem          Part  \n",
       "0   Keeps rebooting like before. See ticket #698931.  POWER SUPPLY  \n",
       "1  Library controller will not boot with RAID car...    CONTROLLER  \n",
       "2  Library controller will not boot with RAID car...       MONITOR  \n",
       "3  DS4300 TOP - Failed controler and failed contr...       BATTERY  \n",
       "4  DS4300 TOP - Failed controler and failed contr...    CONTROLLER  "
      ]
     },
     "execution_count": 10,
     "metadata": {},
     "output_type": "execute_result"
    }
   ],
   "source": [
    "# read in csv\n",
    "\n",
    "uta_df = pd.read_csv(\"historicalData5years.csv\")\n",
    "uta_df.head()"
   ]
  },
  {
   "cell_type": "code",
   "execution_count": 22,
   "metadata": {},
   "outputs": [
    {
     "name": "stdout",
     "output_type": "stream",
     "text": [
      "235\n"
     ]
    },
    {
     "name": "stderr",
     "output_type": "stream",
     "text": [
      "[nltk_data] Downloading package stopwords to /home/ss63/nltk_data...\n",
      "[nltk_data]   Package stopwords is already up-to-date!\n"
     ]
    }
   ],
   "source": [
    "#create a list of stopwords\n",
    "Project\n",
    "nltk.download('stopwords')\n",
    "stop_words = stopwords.words('english') \n",
    "more_stop = ['gb','needs','consume','appears','service','ticket',\n",
    "             'code','x','parts','model','pn','part','number',\n",
    "             'need','onsite','spare','last','part','number','week',\n",
    "             'would','like','we','judy','still','stays','stay',\n",
    "             'doesnt','getting','keeps','back','replaced','two',\n",
    "             'one','three','g','call','home','yesterday','today',\n",
    "             'itll','think','customer','ts','noc','thinks','minutes',\n",
    "             'thought','e','hi','k','gb','call','need','needs','please']\n",
    "stop_words.extend(more_stop)\n",
    "print(len(stop_words))"
   ]
  },
  {
   "cell_type": "code",
   "execution_count": 13,
   "metadata": {},
   "outputs": [],
   "source": [
    "#clean up TcaProblem field and only keep words that are not in stop_words\n",
    "\n",
    "uta_df['TcaProblem'] = uta_df['TcaProblem'].astype(str)\n",
    "uta_df.TcaProblem = uta_df['TcaProblem'].str.lower()\n",
    "uta_df['TcaProblem'] = uta_df['TcaProblem'].str.replace('[{}]'.format(string.punctuation), '')\n",
    "uta_df['TcaProblem'] = uta_df['TcaProblem'].str.replace('\\d+', '')\n",
    "uta_df['TcaProblem'] = uta_df['TcaProblem'].apply(lambda x: [item for item in x.split() if item not in stop_words])"
   ]
  },
  {
   "cell_type": "code",
   "execution_count": 15,
   "metadata": {},
   "outputs": [],
   "source": [
    "#reformat cleaned up TcaProblem field\n",
    "uta_df['TcaProblem'] = uta_df['TcaProblem'].astype(str)\n",
    "uta_df['TcaProblem'] = uta_df['TcaProblem'].str.replace('[{}]'.format(string.punctuation), '')"
   ]
  },
  {
   "cell_type": "code",
   "execution_count": 16,
   "metadata": {},
   "outputs": [],
   "source": [
    "#create an n-gram list and add it to the dataframe\n",
    "\n",
    "ngram_list = list()\n",
    "for x in uta_df.TcaProblem:\n",
    "    ngram_words = list(nltk.ngrams(x.split(), 2)) #change 3 to any sensible positive int.\n",
    "    ngram_list.append(ngram_words)\n",
    "uta_df['Ngrams'] = ngram_list"
   ]
  },
  {
   "cell_type": "code",
   "execution_count": 19,
   "metadata": {},
   "outputs": [
    {
     "name": "stdout",
     "output_type": "stream",
     "text": [
      "           Part  Count                 Ngrams\n",
      "0  POWER SUPPLY      0       (rebooting, see)\n",
      "1    CONTROLLER      0  (library, controller)\n",
      "2    CONTROLLER      1     (controller, boot)\n",
      "3    CONTROLLER      2           (boot, raid)\n",
      "4    CONTROLLER      3           (raid, card)\n"
     ]
    }
   ],
   "source": [
    "#places n-gram tuples into list, when part is index\n",
    "\n",
    "uta_df2 = pd.DataFrame(uta_df['Ngrams'].values.tolist(), index= uta_df.Part)\n",
    "stack = uta_df2.stack()\n",
    "uta_stacked_df = pd.DataFrame(stack)\n",
    "\n",
    "uta_df3 = uta_stacked_df.reset_index()\n",
    "uta_df3.columns = ['Part','Count', 'Ngrams']\n",
    "print(uta_df3.head())"
   ]
  },
  {
   "cell_type": "code",
   "execution_count": 20,
   "metadata": {},
   "outputs": [],
   "source": [
    "#group by Part, then Ngrams and rank by most common\n",
    "\n",
    "uta_df3_grouped = uta_df3.groupby(['Part', 'Ngrams'], as_index=False).count()\n",
    "uta_df3 = uta_df3_grouped.sort_values(by = ['Part','Count'], ascending = False)\n",
    "\n",
    "uta_df3 = pd.DataFrame(uta_df3)Project\n",
    "uta_df3 = uta_df3.groupby('Part').head(15)"
   ]
  },
  {
   "cell_type": "code",
   "execution_count": 25,
   "metadata": {},
   "outputs": [
    {
     "name": "stdout",
     "output_type": "stream",
     "text": [
      "            Ngrams\n",
      "0  (Flashing, red)\n",
      "1     (red, light)\n",
      "2  (light, failed)\n",
      "3  (failed, drive)\n"
     ]
    }
   ],
   "source": [
    "#place single ticket into a list and parse the problem into bi-grams\n",
    "\n",
    "tca_problem = [\"Flashing red light failed drive\"]\n",
    "\n",
    "for x in tca_problem:\n",
    "    ngram_words = list(nltk.ngrams(x.split(), 2)) \n",
    "ngram_words\n",
    "\n",
    "#place the parsed ticket into a dataframe\n",
    "single_ticketdf = pd.DataFrame()\n",
    "single_ticketdf['Ngrams'] = ngram_words\n",
    "print(single_ticketdf)"
   ]
  },
  {
   "cell_type": "code",
   "execution_count": 27,
   "metadata": {},
   "outputs": [
    {
     "name": "stdout",
     "output_type": "stream",
     "text": [
      "         Part           Ngrams  Count  Probability\n",
      "0     MONITOR     (red, light)      1     0.012048\n",
      "1  DISK DRIVE  (failed, drive)     82     0.987952\n"
     ]
    }
   ],
   "source": [
    "'''\n",
    "Join the parsed single-ticket df onto the bi-gram df. This associates the bi-grams of the single-ticket\n",
    "to hardware parts in the unstrucdf_3 df and then predicts which hardware part should be used to fix the issue\n",
    "'''\n",
    "merge_df = pd.merge(uta_df3,single_ticketdf, on='Ngrams', how='inner')\n",
    "Project\n",
    "prop = merge_df['Count']/sum(merge_df['Count'])\n",
    "merge_df['Probability'] = prop\n",
    "print(merge_df)\n"
   ]
  }
 ],
 "metadata": {
  "kernelspec": {
   "display_name": "Python 3",
   "language": "python",
   "name": "python3"
  },
  "language_info": {
   "codemirror_mode": {
    "name": "ipython",
    "version": 3
   },
   "file_extension": ".py",
   "mimetype": "text/x-python",
   "name": "python",
   "nbconvert_exporter": "python",
   "pygments_lexer": "ipython3",
   "version": "3.5.2"
  }
 },
 "nbformat": 4,
 "nbformat_minor": 2
}
