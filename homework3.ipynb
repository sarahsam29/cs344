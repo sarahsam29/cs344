{
 "cells": [
  {
   "cell_type": "markdown",
   "metadata": {},
   "source": [
    "# Homework 3"
   ]
  },
  {
   "cell_type": "markdown",
   "metadata": {},
   "source": [
    "### Question 1:"
   ]
  },
  {
   "cell_type": "markdown",
   "metadata": {},
   "source": [
    "In class, we discussed how it is impossible to have a single-layered neural network for the XOR function. \n",
    "This is because XOR function is not linearly separable and therefore there is no linear model that can successfully \n",
    "learn the XOR function. Perceptrons, specifically, include a single layer of input units (and one bias unit), and \n",
    "a single output unit. This structure makes it a “feed-forward” type of network, which means that the process of \n",
    "obtaining an output occurs in one direction from the single input layer to the output. Moreover, there is no \n",
    "communication between units in the input layer. This type of architecture is limiting because XOR functions cannot \n",
    "be sort with a single line since they are linearly separable. \n",
    "\n",
    "But a multilayered network, which is also a “feed-forward”, can learn XOR function since it can add a second layer \n",
    "called the hidden layer. Because of its complex architecture, the multilayered perceptron is able to achieve the \n",
    "non-linear separation that an XOR function requires. Moreover, if you can get around the “feed-forward” type of network,\n",
    "there is a way of learning the XOR function. This algorithm is known as backpropagation. This method works by comparing\n",
    "the actual output to the expected output, then backtracks to adjusts the weights so that it reduces the error size by a\n",
    "small amount. This forward/backward propagation happens several times on each input combination until the network is \n",
    "able to predict the expected output accurately. \n"
   ]
  },
  {
   "cell_type": "markdown",
   "metadata": {},
   "source": [
    "### Question 2: "
   ]
  },
  {
   "cell_type": "markdown",
   "metadata": {},
   "source": [
    "Part a:"
   ]
  },
  {
   "cell_type": "code",
   "execution_count": 2,
   "metadata": {},
   "outputs": [],
   "source": [
    "import numpy as np\n",
    "import pandas as pd\n",
    "from keras.datasets import boston_housing"
   ]
  },
  {
   "cell_type": "code",
   "execution_count": 3,
   "metadata": {},
   "outputs": [
    {
     "name": "stdout",
     "output_type": "stream",
     "text": [
      "training_x shape: (404, 13)\n",
      "training_y shape: (404,)\n",
      "testing_x shape: (102, 13)\n",
      "testing_y shape: (102,)\n"
     ]
    }
   ],
   "source": [
    "(training_x, training_y), (testing_x, testing_y) = boston_housing.load_data()\n",
    "\n",
    "print('training_x shape:', training_x.shape)\n",
    "print('training_y shape:', training_y.shape)\n",
    "print('testing_x shape:', testing_x.shape)\n",
    "print('testing_y shape:', testing_y.shape)"
   ]
  },
  {
   "cell_type": "markdown",
   "metadata": {},
   "source": [
    "Part b:"
   ]
  },
  {
   "cell_type": "code",
   "execution_count": 4,
   "metadata": {},
   "outputs": [
    {
     "name": "stdout",
     "output_type": "stream",
     "text": [
      "validation_x shape: (202, 13)\n",
      "validation_y shape: (202,)\n"
     ]
    }
   ],
   "source": [
    "'''I am dividing the training set into a new training set and a validation set.The validation set \n",
    "recieves the first half of the training set and the new training set receives the other half.'''\n",
    "\n",
    "validation_x = training_x[0:202]\n",
    "training_x = training_x[203:]\n",
    "\n",
    "validation_y = training_y[0:202]\n",
    "training_y= training_y[203:]\n",
    "\n",
    "print('validation_x shape:', validation_x.shape)\n",
    "print('validation_y shape:', validation_y.shape)"
   ]
  },
  {
   "cell_type": "markdown",
   "metadata": {},
   "source": [
    "Part c:"
   ]
  },
  {
   "cell_type": "markdown",
   "metadata": {},
   "source": [
    "My intent is to describe how affordabile an area is to live. Therefore, I have created a synthetic features. \"affordability\" that uses full property value (\"tax\") and percent of low income people  living in a town (\"lstat\") \n",
    "The idea is that if the full value property tax is fairly low, and there is a greater percent of low income people living in the town then the town is fairly affordable. Affordability is a percentage, where lower percents indicate a more expesive area and higher percents indicate cheaper areas. That being said, I am not positive if my logic to turn tax into a percent is correct. I wanted to convert 'tax' to a percent so that I can multiply it with 'lstat'. "
   ]
  },
  {
   "cell_type": "code",
   "execution_count": 9,
   "metadata": {},
   "outputs": [
    {
     "data": {
      "text/html": [
       "<div>\n",
       "<table border=\"1\" class=\"dataframe\">\n",
       "  <thead>\n",
       "    <tr style=\"text-align: right;\">\n",
       "      <th></th>\n",
       "      <th>crim</th>\n",
       "      <th>zn</th>\n",
       "      <th>indus</th>\n",
       "      <th>chas</th>\n",
       "      <th>nox</th>\n",
       "      <th>rm</th>\n",
       "      <th>age</th>\n",
       "      <th>dis</th>\n",
       "      <th>rad</th>\n",
       "      <th>tax</th>\n",
       "      <th>ptratio</th>\n",
       "      <th>b</th>\n",
       "      <th>lstat</th>\n",
       "      <th>medv</th>\n",
       "      <th>tax_percent</th>\n",
       "      <th>affordability</th>\n",
       "    </tr>\n",
       "  </thead>\n",
       "  <tbody>\n",
       "    <tr>\n",
       "      <th>0</th>\n",
       "      <td>0.00632</td>\n",
       "      <td>18.0</td>\n",
       "      <td>2.31</td>\n",
       "      <td>0</td>\n",
       "      <td>0.538</td>\n",
       "      <td>6.575</td>\n",
       "      <td>65.2</td>\n",
       "      <td>4.0900</td>\n",
       "      <td>1</td>\n",
       "      <td>296</td>\n",
       "      <td>15.3</td>\n",
       "      <td>396.90</td>\n",
       "      <td>4.98</td>\n",
       "      <td>24.0</td>\n",
       "      <td>2.96</td>\n",
       "      <td>14.7408</td>\n",
       "    </tr>\n",
       "    <tr>\n",
       "      <th>1</th>\n",
       "      <td>0.02731</td>\n",
       "      <td>0.0</td>\n",
       "      <td>7.07</td>\n",
       "      <td>0</td>\n",
       "      <td>0.469</td>\n",
       "      <td>6.421</td>\n",
       "      <td>78.9</td>\n",
       "      <td>4.9671</td>\n",
       "      <td>2</td>\n",
       "      <td>242</td>\n",
       "      <td>17.8</td>\n",
       "      <td>396.90</td>\n",
       "      <td>9.14</td>\n",
       "      <td>21.6</td>\n",
       "      <td>2.42</td>\n",
       "      <td>22.1188</td>\n",
       "    </tr>\n",
       "    <tr>\n",
       "      <th>2</th>\n",
       "      <td>0.02729</td>\n",
       "      <td>0.0</td>\n",
       "      <td>7.07</td>\n",
       "      <td>0</td>\n",
       "      <td>0.469</td>\n",
       "      <td>7.185</td>\n",
       "      <td>61.1</td>\n",
       "      <td>4.9671</td>\n",
       "      <td>2</td>\n",
       "      <td>242</td>\n",
       "      <td>17.8</td>\n",
       "      <td>392.83</td>\n",
       "      <td>4.03</td>\n",
       "      <td>34.7</td>\n",
       "      <td>2.42</td>\n",
       "      <td>9.7526</td>\n",
       "    </tr>\n",
       "    <tr>\n",
       "      <th>3</th>\n",
       "      <td>0.03237</td>\n",
       "      <td>0.0</td>\n",
       "      <td>2.18</td>\n",
       "      <td>0</td>\n",
       "      <td>0.458</td>\n",
       "      <td>6.998</td>\n",
       "      <td>45.8</td>\n",
       "      <td>6.0622</td>\n",
       "      <td>3</td>\n",
       "      <td>222</td>\n",
       "      <td>18.7</td>\n",
       "      <td>394.63</td>\n",
       "      <td>2.94</td>\n",
       "      <td>33.4</td>\n",
       "      <td>2.22</td>\n",
       "      <td>6.5268</td>\n",
       "    </tr>\n",
       "    <tr>\n",
       "      <th>4</th>\n",
       "      <td>0.06905</td>\n",
       "      <td>0.0</td>\n",
       "      <td>2.18</td>\n",
       "      <td>0</td>\n",
       "      <td>0.458</td>\n",
       "      <td>7.147</td>\n",
       "      <td>54.2</td>\n",
       "      <td>6.0622</td>\n",
       "      <td>3</td>\n",
       "      <td>222</td>\n",
       "      <td>18.7</td>\n",
       "      <td>396.90</td>\n",
       "      <td>5.33</td>\n",
       "      <td>36.2</td>\n",
       "      <td>2.22</td>\n",
       "      <td>11.8326</td>\n",
       "    </tr>\n",
       "  </tbody>\n",
       "</table>\n",
       "</div>"
      ],
      "text/plain": [
       "      crim    zn  indus  chas    nox     rm   age     dis  rad  tax  ptratio  \\\n",
       "0  0.00632  18.0   2.31     0  0.538  6.575  65.2  4.0900    1  296     15.3   \n",
       "1  0.02731   0.0   7.07     0  0.469  6.421  78.9  4.9671    2  242     17.8   \n",
       "2  0.02729   0.0   7.07     0  0.469  7.185  61.1  4.9671    2  242     17.8   \n",
       "3  0.03237   0.0   2.18     0  0.458  6.998  45.8  6.0622    3  222     18.7   \n",
       "4  0.06905   0.0   2.18     0  0.458  7.147  54.2  6.0622    3  222     18.7   \n",
       "\n",
       "        b  lstat  medv  tax_percent  affordability  \n",
       "0  396.90   4.98  24.0         2.96        14.7408  \n",
       "1  396.90   9.14  21.6         2.42        22.1188  \n",
       "2  392.83   4.03  34.7         2.42         9.7526  \n",
       "3  394.63   2.94  33.4         2.22         6.5268  \n",
       "4  396.90   5.33  36.2         2.22        11.8326  "
      ]
     },
     "execution_count": 9,
     "metadata": {},
     "output_type": "execute_result"
    }
   ],
   "source": [
    "boston_df = pd.read_csv(\"https://raw.githubusercontent.com/selva86/datasets/master/BostonHousing.csv\")\n",
    "boston_df['tax_percent'] = (boston_df['tax']/ 100)\n",
    "boston_df['affordability'] = (boston_df['tax_percent'] * boston_df['lstat'])\n",
    "\n",
    "boston_df.head()"
   ]
  }
 ],
 "metadata": {
  "kernelspec": {
   "display_name": "Python 3",
   "language": "python",
   "name": "python3"
  },
  "language_info": {
   "codemirror_mode": {
    "name": "ipython",
    "version": 3
   },
   "file_extension": ".py",
   "mimetype": "text/x-python",
   "name": "python",
   "nbconvert_exporter": "python",
   "pygments_lexer": "ipython3",
   "version": "3.5.2"
  }
 },
 "nbformat": 4,
 "nbformat_minor": 2
}
